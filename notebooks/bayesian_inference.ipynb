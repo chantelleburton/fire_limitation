{
 "cells": [
  {
   "cell_type": "markdown",
   "metadata": {},
   "source": [
    "<table style=\"width: 100%; border-collapse: collapse;\" border=\"0\">\n",
    "<tr>\n",
    "<td><b>Created:</b> Monday 30 January 2017</td>\n",
    "<td style=\"text-align: right;\"><a href=\"https://www.github.com/rhyswhitley/fire_limitation\">github.com/rhyswhitley/fire_limitation</td>\n",
    "</tr>\n",
    "</table>"
   ]
  },
  {
   "cell_type": "markdown",
   "metadata": {},
   "source": [
    "<div>\n",
    "<center>\n",
    "<font face=\"Times\">\n",
    "<br>\n",
    "<h1>Quantifying the uncertainity of a global fire limitation model using Bayesian inference</h1>\n",
    "<h2>Part 1: Staging data for analysis</h2>\n",
    "<br>\n",
    "<br>\n",
    "<sup>1,* </sup>Douglas Kelley, \n",
    "<sup>2 </sup>Ioannis Bistinas, \n",
    "<sup>3, 4 </sup>Chantelle Burton, \n",
    "<sup>1 </sup>Tobias Marthews, \n",
    "<sup>5 </sup>Rhys Whitley\n",
    "<br>\n",
    "<br>\n",
    "<br>\n",
    "<sup>1 </sup>Centre for Ecology and Hydrology, Maclean Building, Crowmarsh Gifford, Wallingford, Oxfordshire, United Kingdom\n",
    "<br>\n",
    "<sup>2 </sup>Vrije Universiteit Amsterdam, Faculty of Earth and Life Sciences, Amsterdam, Netherlands\n",
    "<br>\n",
    "<sup>3 </sup>Met Office United Kingdom, Exeter, United Kingdom\n",
    "<br>\n",
    "<sup>4 </sup>Geography, University of Exeter, Exeter, United Kingdom\n",
    "<br>\n",
    "<sup>5 </sup>Natural Perils Pricing, Commercial & Consumer Portfolio & Pricing, Suncorp Group, Sydney, Australia\n",
    "<br>\n",
    "<br>\n",
    "<h3>Summary</h3>\n",
    "<hr>\n",
    "<p> \n",
    "This notebook aims to process the separate netCDF4 files for the model drivers (X<sub>i=1, 2, ... M</sub>) and model target (Y) into a unified tabular data frame, exported as a compressed comma separated value (CSV) file. This file is subsequently used in the Bayesian inference study that forms the second notebook in this experiment. The advantage of the pre-processing the data separately to the analysis allows for it be quickly staged on demand. Of course other file formats may be more advantageous for greater compression (e.g. SQLite3 database file).\n",
    "</p>\n",
    "<br>\n",
    "<br>\n",
    "<i>Python code and calculations below</i>\n",
    "<hr>\n",
    "</font>\n",
    "</center>\n",
    "</div>"
   ]
  },
  {
   "cell_type": "markdown",
   "metadata": {},
   "source": [
    "## Load libraries"
   ]
  },
  {
   "cell_type": "code",
   "execution_count": 157,
   "metadata": {
    "collapsed": true
   },
   "outputs": [],
   "source": [
    "# data munging and analytical libraries \n",
    "import re\n",
    "import os\n",
    "import numpy as np\n",
    "import pandas as pd\n",
    "from netCDF4 import Dataset \n",
    "\n",
    "# graphical libraries\n",
    "import matplotlib.pyplot as plt\n",
    "%matplotlib inline"
   ]
  },
  {
   "cell_type": "markdown",
   "metadata": {},
   "source": [
    "## Import and clean data\n",
    "\n",
    "Set the directory path and look for all netcdf files that correspond to the model drivers and target."
   ]
  },
  {
   "cell_type": "code",
   "execution_count": 129,
   "metadata": {
    "collapsed": false
   },
   "outputs": [
    {
     "data": {
      "text/html": [
       "<div>\n",
       "<table border=\"1\" class=\"dataframe\">\n",
       "  <thead>\n",
       "    <tr style=\"text-align: right;\">\n",
       "      <th></th>\n",
       "      <th>file_name</th>\n",
       "      <th>filepath</th>\n",
       "    </tr>\n",
       "  </thead>\n",
       "  <tbody>\n",
       "    <tr>\n",
       "      <th>0</th>\n",
       "      <td>alpha</td>\n",
       "      <td>../data/raw/alpha2000-2014.nc</td>\n",
       "    </tr>\n",
       "    <tr>\n",
       "      <th>1</th>\n",
       "      <td>cropland</td>\n",
       "      <td>../data/raw/cropland2000-2014.nc</td>\n",
       "    </tr>\n",
       "    <tr>\n",
       "      <th>2</th>\n",
       "      <td>fire</td>\n",
       "      <td>../data/raw/fire2000-2014.nc</td>\n",
       "    </tr>\n",
       "    <tr>\n",
       "      <th>3</th>\n",
       "      <td>lightning_ignitions</td>\n",
       "      <td>../data/raw/lightning_ignitions2000-2014.nc</td>\n",
       "    </tr>\n",
       "    <tr>\n",
       "      <th>4</th>\n",
       "      <td>NPP</td>\n",
       "      <td>../data/raw/NPP2000-2014.nc</td>\n",
       "    </tr>\n",
       "    <tr>\n",
       "      <th>5</th>\n",
       "      <td>pasture</td>\n",
       "      <td>../data/raw/pasture2000-2014.nc</td>\n",
       "    </tr>\n",
       "    <tr>\n",
       "      <th>6</th>\n",
       "      <td>population_density</td>\n",
       "      <td>../data/raw/population_density2000-2014.nc</td>\n",
       "    </tr>\n",
       "    <tr>\n",
       "      <th>7</th>\n",
       "      <td>urban_area</td>\n",
       "      <td>../data/raw/urban_area2000-2014.nc</td>\n",
       "    </tr>\n",
       "  </tbody>\n",
       "</table>\n",
       "</div>"
      ],
      "text/plain": [
       "             file_name                                     filepath\n",
       "0                alpha                ../data/raw/alpha2000-2014.nc\n",
       "1             cropland             ../data/raw/cropland2000-2014.nc\n",
       "2                 fire                 ../data/raw/fire2000-2014.nc\n",
       "3  lightning_ignitions  ../data/raw/lightning_ignitions2000-2014.nc\n",
       "4                  NPP                  ../data/raw/NPP2000-2014.nc\n",
       "5              pasture              ../data/raw/pasture2000-2014.nc\n",
       "6   population_density   ../data/raw/population_density2000-2014.nc\n",
       "7           urban_area           ../data/raw/urban_area2000-2014.nc"
      ]
     },
     "execution_count": 129,
     "metadata": {},
     "output_type": "execute_result"
    }
   ],
   "source": [
    "driver_paths = [os.path.join(dp, f) for (dp, _, fn) in os.walk(\"../data/raw/\") for f in fn if f.endswith('.nc')]\n",
    "driver_names = [re.search('^[a-zA-Z_]*', os.path.basename(fp)).group(0) for fp in driver_paths]\n",
    "\n",
    "file_table = pd.DataFrame({'filepath': driver_paths, 'file_name': driver_names})\n",
    "file_table"
   ]
  },
  {
   "cell_type": "code",
   "execution_count": 168,
   "metadata": {
    "collapsed": false
   },
   "outputs": [],
   "source": [
    "def nc_extract(fpath):\n",
    "    print(\"Processing: {0}\".format(fpath))\n",
    "    with Dataset(fpath, 'r') as nc_file:\n",
    "        gdata = nc_file.variables['variable'][:][:, :, :]\n",
    "        gflat = gdata.ravel()\n",
    "        if type(gdata) == np.ma.core.MaskedArray:\n",
    "            return gflat[~gflat.mask].data[:]\n",
    "        else:\n",
    "            return gflat[:]"
   ]
  },
  {
   "cell_type": "code",
   "execution_count": 169,
   "metadata": {
    "collapsed": false
   },
   "outputs": [
    {
     "name": "stdout",
     "output_type": "stream",
     "text": [
      "Processing: ../data/raw/alpha2000-2014.nc\n",
      "Processing: ../data/raw/cropland2000-2014.nc\n",
      "Processing: ../data/raw/fire2000-2014.nc\n",
      "Processing: ../data/raw/lightning_ignitions2000-2014.nc\n",
      "Processing: ../data/raw/NPP2000-2014.nc\n",
      "Processing: ../data/raw/pasture2000-2014.nc\n",
      "Processing: ../data/raw/population_density2000-2014.nc\n",
      "Processing: ../data/raw/urban_area2000-2014.nc\n"
     ]
    }
   ],
   "source": [
    "my_dict = {row.file_name: nc_extract(row.filepath).data for (_, row) in file_table.iterrows()}"
   ]
  },
  {
   "cell_type": "code",
   "execution_count": 170,
   "metadata": {
    "collapsed": false
   },
   "outputs": [
    {
     "data": {
      "text/plain": [
       "{'NPP': <memory at 0x118ebf1c8>,\n",
       " 'alpha': <memory at 0x111ce5348>,\n",
       " 'cropland': <memory at 0x118ebfb88>,\n",
       " 'fire': <memory at 0x118ebf888>,\n",
       " 'lightning_ignitions': <memory at 0x118ebf588>,\n",
       " 'pasture': <memory at 0x118ebff48>,\n",
       " 'population_density': <memory at 0x118ebfd08>,\n",
       " 'urban_area': <memory at 0x118eef048>}"
      ]
     },
     "execution_count": 170,
     "metadata": {},
     "output_type": "execute_result"
    }
   ],
   "source": [
    "my_dict"
   ]
  },
  {
   "cell_type": "code",
   "execution_count": null,
   "metadata": {
    "collapsed": true
   },
   "outputs": [],
   "source": []
  }
 ],
 "metadata": {
  "kernelspec": {
   "display_name": "Python 3",
   "language": "python",
   "name": "python3"
  },
  "language_info": {
   "codemirror_mode": {
    "name": "ipython",
    "version": 3
   },
   "file_extension": ".py",
   "mimetype": "text/x-python",
   "name": "python",
   "nbconvert_exporter": "python",
   "pygments_lexer": "ipython3",
   "version": "3.5.2"
  }
 },
 "nbformat": 4,
 "nbformat_minor": 0
}
